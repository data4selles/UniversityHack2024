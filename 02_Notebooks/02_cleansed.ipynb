{
 "cells": [
  {
   "cell_type": "markdown",
   "id": "34154528",
   "metadata": {},
   "source": [
    "# 2. CLEANSED LAYER"
   ]
  },
  {
   "cell_type": "code",
   "execution_count": 1,
   "id": "31066867",
   "metadata": {},
   "outputs": [
    {
     "name": "stderr",
     "output_type": "stream",
     "text": [
      "\"pip\" no se reconoce como un comando interno o externo,\n",
      "programa o archivo por lotes ejecutable.\n"
     ]
    }
   ],
   "source": [
    "!pip install pandasql"
   ]
  },
  {
   "cell_type": "code",
   "execution_count": 1,
   "id": "add0ceb1",
   "metadata": {},
   "outputs": [],
   "source": [
    "import pandas as pd\n",
    "import pandasql as psql"
   ]
  },
  {
   "cell_type": "code",
   "execution_count": 4,
   "id": "66449a92",
   "metadata": {},
   "outputs": [],
   "source": [
    "path_raw = 'C:\\\\Users\\\\anton\\\\OneDrive\\\\Documentos\\\\GitHub\\\\UniversityHack2024\\\\01_Data\\\\01_Raw\\\\'\n",
    "path_cleansed = 'C:\\\\Users\\\\anton\\\\OneDrive\\\\Documentos\\\\GitHub\\\\UniversityHack2024\\\\01_Data\\\\02_Cleansed\\\\'"
   ]
  },
  {
   "cell_type": "markdown",
   "id": "288d5215",
   "metadata": {},
   "source": [
    "## 2.1 OF 123456.xlsx"
   ]
  },
  {
   "cell_type": "code",
   "execution_count": 5,
   "id": "19369ebf",
   "metadata": {},
   "outputs": [],
   "source": [
    "# Ruta Excel para OF 123456\n",
    "path_OF_01 = path_raw + 'OF 123456.xlsx'"
   ]
  },
  {
   "cell_type": "code",
   "execution_count": 6,
   "id": "13a95fed",
   "metadata": {},
   "outputs": [
    {
     "name": "stdout",
     "output_type": "stream",
     "text": [
      "Orden                     int64\n",
      "Número material           int64\n",
      "Texto breve material     object\n",
      "Lote                     object\n",
      "Cantidad entregada      float64\n",
      "Unidad de medida         object\n",
      "dtype: object\n"
     ]
    }
   ],
   "source": [
    "# Guardamos el contenido en un DataFrame\n",
    "df_OF_01 = pd.read_excel(path_OF_01)\n",
    "print(df_OF_01.dtypes)"
   ]
  },
  {
   "cell_type": "code",
   "execution_count": 5,
   "id": "8056d706",
   "metadata": {},
   "outputs": [],
   "source": [
    "# La consulta convierte el campo Lote a entero eliminando las barras ('/'), y cambiamos el nombre de las demás columnas.\n",
    "consulta = \"\"\"\n",
    "    SELECT \n",
    "    CAST(REPLACE(`Lote`, '/', '') AS INTEGER) AS Lote, \n",
    "    Orden AS OF,\n",
    "    `Cantidad entregada` AS Cantidad_entregada\n",
    "\n",
    "    FROM df\n",
    "    \"\"\"\n",
    "# Ejecutamos la consulta\n",
    "df_OF_02 = psql.sqldf(consulta, locals())"
   ]
  },
  {
   "cell_type": "code",
   "execution_count": 93,
   "id": "40133486",
   "metadata": {},
   "outputs": [
    {
     "name": "stdout",
     "output_type": "stream",
     "text": [
      "Lote                    int64\n",
      "OF                      int64\n",
      "Cantidad_entregada    float64\n",
      "dtype: object\n",
      "      Lote         OF  Cantidad_entregada\n",
      "0    23019  200178572               13.80\n",
      "1    23020  200179217               13.60\n",
      "2    23021  200181620               13.50\n",
      "3    23022  200182428               13.80\n",
      "4    23023  200182429               13.70\n",
      "..     ...        ...                 ...\n",
      "202  24108  200205686               13.63\n",
      "203  24106  200205695               13.69\n",
      "204  24107  200205696               13.45\n",
      "205  24109  200205687               11.35\n",
      "206  24110  200205688               13.77\n",
      "\n",
      "[207 rows x 3 columns]\n"
     ]
    }
   ],
   "source": [
    "# Guardar el resultado en un archivo Excel\n",
    "df_OF_02.to_excel(f'{path_cleansed}OF_123456.xlsx', index=False)\n",
    "\n",
    "# Mostrar el resultado\n",
    "display(df_OF_02)"
   ]
  },
  {
   "cell_type": "markdown",
   "id": "48c0b9a0",
   "metadata": {},
   "source": [
    "## 2.2 Fases producción.xlsx"
   ]
  },
  {
   "cell_type": "code",
   "execution_count": 10,
   "id": "b5e70ccb",
   "metadata": {},
   "outputs": [],
   "source": [
    "# Ruta Excel para Fases de producción\n",
    "path_fases_01 = path_raw + 'Fases producción.xlsx'"
   ]
  },
  {
   "cell_type": "markdown",
   "id": "1cc4bfa6",
   "metadata": {},
   "source": [
    "### 2.2.1 PREINÓCULO"
   ]
  },
  {
   "cell_type": "code",
   "execution_count": 16,
   "id": "66489ece",
   "metadata": {},
   "outputs": [
    {
     "data": {
      "text/plain": [
       "LOTE                               object\n",
       "Fecha/hora inicio          datetime64[ns]\n",
       "Fecha/hora fin             datetime64[ns]\n",
       "ph_línea 1                        float64\n",
       "ph_línea 2                        float64\n",
       "ph_línea 3                         object\n",
       "turbidez_línea 1                  float64\n",
       "turbidez_línea 2                  float64\n",
       "turbidez_línea 3                   object\n",
       "linea_utilizada_línea 1             int64\n",
       "linea_utilizada_línea 2             int64\n",
       "linea_utilizada_línea 3             int64\n",
       "dtype: object"
      ]
     },
     "metadata": {},
     "output_type": "display_data"
    }
   ],
   "source": [
    "# Leer el archivo Excel y guardar el contenido en un DataFrame\n",
    "df_preinoculo_01 = pd.read_excel(path_fases_01, sheet_name = \"Preinóculo\")\n",
    "display(df_preinoculo_01.dtypes)"
   ]
  },
  {
   "cell_type": "code",
   "execution_count": 19,
   "id": "21f3be28",
   "metadata": {},
   "outputs": [
    {
     "name": "stdout",
     "output_type": "stream",
     "text": [
      "LOTE                               object\n",
      "Fecha/hora inicio          datetime64[ns]\n",
      "Fecha/hora fin             datetime64[ns]\n",
      "ph_línea 1                        float64\n",
      "ph_línea 2                        float64\n",
      "ph_línea 3                        float64\n",
      "turbidez_línea 1                  float64\n",
      "turbidez_línea 2                  float64\n",
      "turbidez_línea 3                  float64\n",
      "linea_utilizada_línea 1             int64\n",
      "linea_utilizada_línea 2             int64\n",
      "linea_utilizada_línea 3             int64\n",
      "dtype: object\n"
     ]
    }
   ],
   "source": [
    "# Convertimos la columnas 'ph_línea 3' y 'turbidez_línea 3' a numérico y forzamos los valores no numéricos a NaN\n",
    "df_preinoculo_01['ph_línea 3'] = pd.to_numeric(df_preinoculo_01['ph_línea 3'], errors='coerce')\n",
    "df_preinoculo_01['turbidez_línea 3'] = pd.to_numeric(df_preinoculo_01['turbidez_línea 3'], errors='coerce')\n",
    "print(df_preinoculo_01.dtypes)"
   ]
  },
  {
   "cell_type": "code",
   "execution_count": null,
   "id": "e54f2f4e",
   "metadata": {},
   "outputs": [],
   "source": [
    "df_preinoculo_01.to_excel(f'{path_cleansed}Fases producción_Preinóculo.xlsx', index=False)"
   ]
  },
  {
   "cell_type": "markdown",
   "id": "444ec2b4",
   "metadata": {},
   "source": [
    "### 2.2.2 INÓCULO"
   ]
  },
  {
   "cell_type": "code",
   "execution_count": 21,
   "id": "973e80ce",
   "metadata": {},
   "outputs": [
    {
     "data": {
      "text/plain": [
       "LOTE                                object\n",
       "ID bioreactor                        int64\n",
       "Fecha/hora inicio           datetime64[ns]\n",
       "Fecha/hora fin              datetime64[ns]\n",
       "Volumen de cultivo                 float64\n",
       "Turbidez inicio cultivo            float64\n",
       "Turbidez final culttivo            float64\n",
       "Viabilidad final cultivo            object\n",
       "dtype: object"
      ]
     },
     "metadata": {},
     "output_type": "display_data"
    }
   ],
   "source": [
    "# Leer el archivo Excel y guardar el contenido en un DataFrame\n",
    "df_inoculo_01 = pd.read_excel(path_fases_01, sheet_name = \"Inóculo\")\n",
    "display(df_inoculo_01.dtypes)"
   ]
  },
  {
   "cell_type": "code",
   "execution_count": null,
   "id": "0f645f1b",
   "metadata": {},
   "outputs": [],
   "source": [
    "df_inoculo_01.to_excel(f'{path_cleansed}Fases producción_Inóculo.xlsx', index=False)"
   ]
  },
  {
   "cell_type": "markdown",
   "id": "d4c19c98",
   "metadata": {},
   "source": [
    "### 2.2.3 CULTIVO FINAL"
   ]
  },
  {
   "cell_type": "code",
   "execution_count": null,
   "id": "a92e561d",
   "metadata": {},
   "outputs": [],
   "source": [
    "# Leemos el archivo Excel y guardamos el contenido en un DataFrame\n",
    "df_cultivo_01 = pd.read_excel(path_fases_01, sheet_name = \"Cultivo final\")"
   ]
  },
  {
   "cell_type": "code",
   "execution_count": null,
   "id": "b9fc656d",
   "metadata": {},
   "outputs": [],
   "source": [
    "# La consulta convierte los campos Lote, Turbidez y Glucosa g/L a valores numéricos, manejando excepciones como NULL.\n",
    "consulta = \"\"\"\n",
    "    SELECT \n",
    "        CAST(Lote AS Integer) AS Lote,\n",
    "        Fecha,\n",
    "        CAST(NULLIF(Turbidez, '-') AS Float) AS Turbidez,\n",
    "        Viabilidad,\n",
    "        CASE\n",
    "            WHEN `Glucosa g/L` REGEXP '^[0-9]+\\\\.[0-9]+$' THEN CAST(`Glucosa g/L` AS Float)\n",
    "            ELSE NULL\n",
    "        END AS Glucosa\n",
    "    FROM df_cultivoIPC_01\n",
    "\"\"\"\n",
    "df_cultivo_02 = psql.sqldf(consulta, locals())\n",
    "\n",
    "# Cambiamos, con la librería pandas, el tipo de campo 'Fecha' a DATETIME porque la librería pandasql no tiene la función\n",
    "df_cultivo_02['Fecha'] = pd.to_datetime(df_cultivo_02['Fecha'])"
   ]
  },
  {
   "cell_type": "code",
   "execution_count": null,
   "id": "64e7d4fb",
   "metadata": {},
   "outputs": [],
   "source": [
    "# Guardamos el resultado en un archivo Excel\n",
    "df_cultivo_02.to_excel(f'{path_cleansed}Fases producción_Cultivo final.xlsx', index=False)"
   ]
  },
  {
   "cell_type": "markdown",
   "id": "baddb33f",
   "metadata": {},
   "source": [
    "## 2.3 Fases producción_test.xlsx"
   ]
  },
  {
   "cell_type": "code",
   "execution_count": 23,
   "id": "86ef4e51",
   "metadata": {},
   "outputs": [],
   "source": [
    "# Ruta Excel para Fases de producción_test\n",
    "path_cultivotest_01 = path_raw + 'Fases producción_test.xlsx'"
   ]
  },
  {
   "cell_type": "code",
   "execution_count": 24,
   "id": "ce12e3dc",
   "metadata": {},
   "outputs": [],
   "source": [
    "# Leer el archivo Excel y guardar el contenido en un DataFrame\n",
    "df_cultivotest_01 = pd.read_excel(path_cultivotest_01)\n",
    "# Eliminar la columna 'Producto 2'\n",
    "df_cultivotest_02 = df_cultivotest_01.drop(columns=['Producto 2'])"
   ]
  },
  {
   "cell_type": "code",
   "execution_count": null,
   "id": "71c7bdb6",
   "metadata": {},
   "outputs": [],
   "source": [
    "df_cultivotest_02.to_excel(f'{path_cleansed}Fases producción_test_Cultivo final.xlsx', index=False)"
   ]
  },
  {
   "cell_type": "markdown",
   "id": "353c1982",
   "metadata": {},
   "source": [
    "## 2.4 Cinéticos IPC.xlsx"
   ]
  },
  {
   "cell_type": "code",
   "execution_count": 26,
   "id": "becb96af",
   "metadata": {},
   "outputs": [],
   "source": [
    "# Ruta Excel para Cinéticos IPC\n",
    "path_IPC_01 = path_raw + 'Cinéticos IPC.xlsx'"
   ]
  },
  {
   "cell_type": "markdown",
   "id": "0e0bcbb5",
   "metadata": {},
   "source": [
    "### 2.4.1 INÓCULO"
   ]
  },
  {
   "cell_type": "code",
   "execution_count": 28,
   "id": "108cca22",
   "metadata": {},
   "outputs": [
    {
     "name": "stdout",
     "output_type": "stream",
     "text": [
      "Lote                  object\n",
      "Fecha         datetime64[ns]\n",
      "Turbidez             float64\n",
      "Viabilidad           float64\n",
      "dtype: object\n"
     ]
    }
   ],
   "source": [
    "df_inoculoIPC_01 = pd.read_excel(path_IPC_01, sheet_name = 'Inóculos')\n",
    "print(df_inoculoIPC_01.dtypes)"
   ]
  },
  {
   "cell_type": "code",
   "execution_count": null,
   "id": "a10de062",
   "metadata": {},
   "outputs": [],
   "source": [
    "df_inoculoIPC_01.to_excel(f'{path_cleansed}CineticosIPC_Inoculos.xlsx', index=False)"
   ]
  },
  {
   "cell_type": "markdown",
   "id": "cafad70d",
   "metadata": {},
   "source": [
    "### 2.4.2 CULTIVO FINAL"
   ]
  },
  {
   "cell_type": "code",
   "execution_count": null,
   "id": "0bc7fc0a",
   "metadata": {},
   "outputs": [],
   "source": [
    "# Leemos el archivo Excel y guardamos el contenido en un DataFrame\n",
    "df_cultivoIPC_01 = pd.read_excel(path_IPC_01, sheet_name='Cultivos finales')"
   ]
  },
  {
   "cell_type": "code",
   "execution_count": null,
   "id": "9ca4fb98",
   "metadata": {},
   "outputs": [
    {
     "name": "stdout",
     "output_type": "stream",
     "text": [
      "Lote                   object\n",
      "Fecha          datetime64[ns]\n",
      "Turbidez               object\n",
      "Viabilidad            float64\n",
      "Glucosa g/L            object\n",
      "dtype: object\n"
     ]
    }
   ],
   "source": [
    "# La consulta convierte los campos Lote, Turbidez y Glucosa g/L a valores numéricos, manejando excepciones como NULL.\n",
    "consulta = \"\"\"\n",
    "    SELECT \n",
    "        CAST(Lote AS Integer) AS Lote,\n",
    "        Fecha,\n",
    "        CAST(NULLIF(Turbidez, '-') AS Float) AS Turbidez,\n",
    "        Viabilidad,\n",
    "        CASE\n",
    "            WHEN `Glucosa g/L` REGEXP '^[0-9]+\\\\.[0-9]+$' THEN CAST(`Glucosa g/L` AS Float)\n",
    "            ELSE NULL\n",
    "        END AS Glucosa\n",
    "    FROM df_cultivoIPC_01\n",
    "\"\"\"\n",
    "df_cultivoIPC_02 = psql.sqldf(consulta, locals())\n",
    "\n",
    "# Cambiamos, con la librería pandas, el tipo de campo 'Fecha' a DATETIME porque la librería pandasql no tiene la función\n",
    "df_cultivoIPC_02['Fecha'] = pd.to_datetime(df_cultivoIPC_02['Fecha'])"
   ]
  },
  {
   "cell_type": "code",
   "execution_count": null,
   "id": "c4552abf",
   "metadata": {},
   "outputs": [
    {
     "name": "stdout",
     "output_type": "stream",
     "text": [
      "Lote                   int64\n",
      "Fecha         datetime64[ns]\n",
      "Turbidez             float64\n",
      "Viabilidad           float64\n",
      "Glucosa              float64\n",
      "dtype: object\n",
      "       Lote               Fecha  Turbidez    Viabilidad  Glucosa\n",
      "0     23019 2023-03-21 07:30:00     17.28  8.333333e+06    1.744\n",
      "1     23019 2023-03-21 11:00:00     17.28  1.397333e+07    1.968\n",
      "2     23019 2023-03-21 14:00:00     18.40  1.688000e+07    1.920\n",
      "3     23019 2023-03-21 18:00:00     19.76  2.474667e+07    1.880\n",
      "4     23019 2023-03-22 07:00:00     39.12  1.000000e+08    1.568\n",
      "...     ...                 ...       ...           ...      ...\n",
      "1906  24110 2024-07-04 15:30:00     58.40  8.053333e+07    1.584\n",
      "1907  24110 2024-07-04 19:30:00     69.76  1.021333e+08    1.248\n",
      "1908  24110 2024-07-05 06:30:00    100.80  1.525333e+08    0.600\n",
      "1909  24110 2024-07-05 08:00:00    104.80  1.514667e+08    0.520\n",
      "1910  24110 2024-07-05 10:10:00    104.80  1.573333e+08    0.592\n",
      "\n",
      "[1911 rows x 5 columns]\n"
     ]
    }
   ],
   "source": [
    "# Guardamos el resultado en un archivo Excel\n",
    "df_cultivoIPC_02.to_excel(f'{path_cleansed}CineticosIPC_Cultivos.xlsx', index=False)\n",
    "\n",
    "# Mostrar el resultado\n",
    "display(df_cultivoIPC_02)"
   ]
  },
  {
   "cell_type": "markdown",
   "id": "90130e53",
   "metadata": {},
   "source": [
    "### 2.4.3 CENTRIFUGACIÓN"
   ]
  },
  {
   "cell_type": "code",
   "execution_count": 31,
   "id": "ed61d573",
   "metadata": {},
   "outputs": [
    {
     "name": "stdout",
     "output_type": "stream",
     "text": [
      "Lote                        object\n",
      "Centrífuga                   int64\n",
      "Centrifugada (1 o 2)         int64\n",
      "Volumen centrifugado (L)     int64\n",
      "Turbidez                    object\n",
      "dtype: object\n"
     ]
    }
   ],
   "source": [
    "df_centIPC_01 = pd.read_excel(path_IPC_01, sheet_name = 'Centrifugación')\n",
    "print(df_centIPC_01.dtypes)"
   ]
  },
  {
   "cell_type": "code",
   "execution_count": null,
   "id": "6d1af719",
   "metadata": {},
   "outputs": [],
   "source": [
    "df_centIPC_01.to_excel(f'{path_cleansed}CineticosIPC_Centrifugacion.xlsx', index=False)"
   ]
  },
  {
   "cell_type": "markdown",
   "id": "5691d7d5",
   "metadata": {},
   "source": [
    "## 2.5 Horas inicio fin centrífugas.xlsx"
   ]
  },
  {
   "cell_type": "code",
   "execution_count": 32,
   "id": "7d42242b",
   "metadata": {},
   "outputs": [],
   "source": [
    "path_horascentrifuga_01 = path_raw + 'Horas inicio fin centrífugas.xlsx'"
   ]
  },
  {
   "cell_type": "code",
   "execution_count": 34,
   "id": "4a43a862",
   "metadata": {},
   "outputs": [
    {
     "name": "stdout",
     "output_type": "stream",
     "text": [
      "EQUIPO        int64\n",
      "Operación    object\n",
      "Orden         int64\n",
      "DATEVALUE    object\n",
      "dtype: object\n"
     ]
    }
   ],
   "source": [
    "df_horascentrifuga_01 = pd.read_excel(path_horascentrifuga_01)\n",
    "print(df_horascentrifuga_01.dtypes)"
   ]
  },
  {
   "cell_type": "code",
   "execution_count": null,
   "id": "b295eb12",
   "metadata": {},
   "outputs": [],
   "source": [
    "df_horascentrifuga_01.to_excel(f'{path_cleansed}Centrifugacion.xlsx')"
   ]
  },
  {
   "cell_type": "markdown",
   "id": "71789bfd",
   "metadata": {},
   "source": [
    "## 2.6 Biorreactores"
   ]
  },
  {
   "cell_type": "markdown",
   "id": "eea3434e",
   "metadata": {},
   "source": [
    "### 2.6.1 Grandes (13169, 13170, 14614, 14615, 14616, 14617)"
   ]
  },
  {
   "cell_type": "code",
   "execution_count": 6,
   "id": "f5f9753a",
   "metadata": {},
   "outputs": [
    {
     "name": "stdout",
     "output_type": "stream",
     "text": [
      "DateTime                              object\n",
      "FERM0101.Agitation_PV                float64\n",
      "FERM0101.Air_Sparge_PV               float64\n",
      "FERM0101.Biocontainer_Pressure_PV    float64\n",
      "FERM0101.DO_1_PV                     float64\n",
      "FERM0101.DO_2_PV                     float64\n",
      "FERM0101.Gas_Overlay_PV              float64\n",
      "FERM0101.Load_Cell_Net_PV            float64\n",
      "FERM0101.pH_1_PV                     float64\n",
      "FERM0101.pH_2_PV                     float64\n",
      "FERM0101.PUMP_1_PV                   float64\n",
      "FERM0101.PUMP_1_TOTAL                float64\n",
      "FERM0101.PUMP_2_PV                   float64\n",
      "FERM0101.PUMP_2_TOTAL                float64\n",
      "FERM0101.Single_Use_DO_PV            float64\n",
      "FERM0101.Single_Use_pH_PV            float64\n",
      "FERM0101.Temperatura_PV              float64\n",
      "Numero_Biorreactor                     int64\n",
      "dtype: object\n"
     ]
    }
   ],
   "source": [
    "# Juntamos, en primer lugar, los Excel de los diferentes biorreactores grandes en un sólo Excel\n",
    "# A continuación, añadimos una columna con el ID de cada biorreactor\n",
    "path_biograndes_01 = path_raw + 'biorreactores_grandes.xlsx'\n",
    "\n",
    "df_biograndes_01 = pd.read_excel(path_biograndes_01)\n",
    "print(df_biograndes_01.dtypes)"
   ]
  },
  {
   "cell_type": "code",
   "execution_count": 7,
   "id": "9f6f29b9",
   "metadata": {},
   "outputs": [],
   "source": [
    "# Cambiamos el tipo de columna 'DateTime' a tipo DateTime\n",
    "df_biograndes_01['DateTime'] = pd.to_datetime(df_biograndes_01['DateTime'])\n",
    "# Añadimos la columna con el ID de cada Biorreactor\n",
    "df_biograndes_01.columns = [col if col in ['DateTime', 'Numero_Biorreactor'] else col.split('.')[1] for col in df_biograndes_01.columns]"
   ]
  },
  {
   "cell_type": "code",
   "execution_count": null,
   "id": "e140b62b",
   "metadata": {},
   "outputs": [],
   "source": [
    "df_biograndes_01.to_excel(f'{path_cleansed}biorreactores_grandes.xlsx', index=False)"
   ]
  },
  {
   "cell_type": "markdown",
   "id": "40e4e392",
   "metadata": {},
   "source": [
    "### 2.6.2 Pequeños (13171, 13172, 14618)"
   ]
  },
  {
   "cell_type": "code",
   "execution_count": 10,
   "id": "19382729",
   "metadata": {},
   "outputs": [
    {
     "name": "stdout",
     "output_type": "stream",
     "text": [
      "DateTime                                    object\n",
      "13171_FERM0101.Agitation_PV                float64\n",
      "13171_FERM0101.Air_Sparge_PV               float64\n",
      "13171_FERM0101.Biocontainer_Pressure_PV    float64\n",
      "13171_FERM0101.DO_1_PV                     float64\n",
      "13171_FERM0101.DO_2_PV                     float64\n",
      "13171_FERM0101.Gas_Overlay_PV              float64\n",
      "13171_FERM0101.Load_Cell_Net_PV            float64\n",
      "13171_FERM0101.pH_1_PV                     float64\n",
      "13171_FERM0101.pH_2_PV                     float64\n",
      "13171_FERM0101.PUMP_1_PV                   float64\n",
      "13171_FERM0101.PUMP_1_TOTAL                float64\n",
      "13171_FERM0101.PUMP_2_PV                   float64\n",
      "13171_FERM0101.PUMP_2_TOTAL                float64\n",
      "13171_FERM0101.Single_Use_DO_PV            float64\n",
      "13171_FERM0101.Single_Use_pH_PV            float64\n",
      "13171_FERM0101.Temperatura_PV              float64\n",
      "Numero_Biorreactor                         float64\n",
      "dtype: object\n"
     ]
    }
   ],
   "source": [
    "# Repetimos el proceso anterior con los biorreactores pequeños\n",
    "path_biopequenyos_01 = path_raw + 'biorreactores_pequeños.xlsx'\n",
    "\n",
    "df_biopequenyos_01 = pd.read_excel(path_biopequenyos_01)"
   ]
  },
  {
   "cell_type": "code",
   "execution_count": 11,
   "id": "818e1b8d",
   "metadata": {},
   "outputs": [],
   "source": [
    "# Cambiamos el tipo de columna 'DateTime' a tipo DateTime\n",
    "df_biopequenyos_01['DateTime'] = pd.to_datetime(df_biopequenyos_01['DateTime'])\n",
    "# Añadimos la columna con el ID de cada Biorreactor\n",
    "df_biopequenyos_01.columns = [col if col in ['DateTime', 'Numero_Biorreactor'] else col.split('.')[1] for col in df_biopequenyos_01.columns]"
   ]
  },
  {
   "cell_type": "code",
   "execution_count": null,
   "id": "17755fb2",
   "metadata": {},
   "outputs": [],
   "source": [
    "df_biopequenyos_01.to_excel(f'{path_cleansed}biorreactores_pequeños.xlsx')"
   ]
  },
  {
   "cell_type": "markdown",
   "id": "1ed1aba4",
   "metadata": {},
   "source": [
    "## 2.7 Centrifugadoras"
   ]
  },
  {
   "cell_type": "code",
   "execution_count": 13,
   "id": "bf9bbfe9",
   "metadata": {},
   "outputs": [
    {
     "name": "stdout",
     "output_type": "stream",
     "text": [
      "DateTime                 datetime64[ns]\n",
      "velocidad_separación            float64\n",
      "presion_agua                    float64\n",
      "contrapresion                   float64\n",
      "caudal                          float64\n",
      "apertura_valvula_agua           float64\n",
      "descargas_totales               float64\n",
      "descargas parciales             float64\n",
      "EQUIPO                            int64\n",
      "dtype: object\n"
     ]
    }
   ],
   "source": [
    "# Seguimos un proceso análogo al llevado a cabo con los biorreactores\n",
    "path_centrifugadoras_01 = path_raw + 'centrifugadoras.xlsx'\n",
    "\n",
    "df_centrifugadoras_01 = pd.read_excel(path_centrifugadoras_01)"
   ]
  },
  {
   "cell_type": "code",
   "execution_count": null,
   "id": "2b5347db",
   "metadata": {},
   "outputs": [],
   "source": [
    "# Cambiamos el tipo de columna 'DateTime' a tipo DateTime\n",
    "df_centrifugadoras_01['DateTime'] = pd.to_datetime(df_centrifugadoras_01['DateTime'])\n",
    "# Cambiamos el nombre de las columnas\n",
    "df_centrifugadoras_01 = df_centrifugadoras_01.rename(columns={'17825_D01919022.PV': 'velocidad_separación', '17825_D01916503.PV': 'presion_agua', '17825_D01916047.PV': 'contrapresion', '17825_D01906041.PV': 'caudal', '17825_D01780551.PV': 'apertura_valvula_agua', '17825_CTF0101.EN_Total': 'descargas_totales', '17825_CTF0101.EN_Parcial': 'descargas parciales'})\n"
   ]
  },
  {
   "cell_type": "code",
   "execution_count": null,
   "id": "935c1811",
   "metadata": {},
   "outputs": [],
   "source": [
    "df_centrifugadoras_01.to_excel(f'{path_cleansed}centrifugadoras.xlsx')"
   ]
  },
  {
   "cell_type": "markdown",
   "id": "9090be75",
   "metadata": {},
   "source": [
    "## 2.8 Temperatura y humedades.xlsx"
   ]
  },
  {
   "cell_type": "code",
   "execution_count": 16,
   "id": "f880932e",
   "metadata": {},
   "outputs": [],
   "source": [
    "path_temperatura_01 = path_raw + 'Temperaturas y humedades.xlsx'\n",
    "\n",
    "df_temperatura_01 = pd.read_excel(path_temperatura_01)"
   ]
  },
  {
   "cell_type": "code",
   "execution_count": null,
   "id": "ae084d2b",
   "metadata": {},
   "outputs": [],
   "source": [
    "# Cambiamos el tipo de columna 'DateTime' a tipo DateTime\n",
    "df_temperatura_01['DateTime'] = pd.to_datetime(df_temperatura_01['DateTime'])"
   ]
  },
  {
   "cell_type": "code",
   "execution_count": null,
   "id": "4c365664",
   "metadata": {},
   "outputs": [],
   "source": [
    "df_temperatura_01.to_excel(f'{path_cleansed}temperaturas_humedades.xlsx')"
   ]
  }
 ],
 "metadata": {
  "kernelspec": {
   "display_name": "Python 3",
   "language": "python",
   "name": "python3"
  },
  "language_info": {
   "codemirror_mode": {
    "name": "ipython",
    "version": 3
   },
   "file_extension": ".py",
   "mimetype": "text/x-python",
   "name": "python",
   "nbconvert_exporter": "python",
   "pygments_lexer": "ipython3",
   "version": "3.9.1"
  }
 },
 "nbformat": 4,
 "nbformat_minor": 5
}
