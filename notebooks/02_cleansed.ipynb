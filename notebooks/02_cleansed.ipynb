{
 "cells": [
  {
   "cell_type": "markdown",
   "id": "34154528",
   "metadata": {},
   "source": [
    "# 2. CLEANSED LAYER"
   ]
  },
  {
   "cell_type": "code",
   "execution_count": 1,
   "id": "31066867",
   "metadata": {},
   "outputs": [
    {
     "name": "stderr",
     "output_type": "stream",
     "text": [
      "\"pip\" no se reconoce como un comando interno o externo,\n",
      "programa o archivo por lotes ejecutable.\n"
     ]
    }
   ],
   "source": [
    "!pip install pandasql"
   ]
  },
  {
   "cell_type": "code",
   "execution_count": 1,
   "id": "add0ceb1",
   "metadata": {},
   "outputs": [],
   "source": [
    "import pandas as pd\n",
    "import pandasql as psql"
   ]
  },
  {
   "cell_type": "code",
   "execution_count": 2,
   "id": "66449a92",
   "metadata": {},
   "outputs": [],
   "source": [
    "path_raw = 'C:\\\\Users\\\\anton\\\\Datathon\\\\01_Raw\\\\'\n",
    "path_cleansed = 'C:\\\\Users\\\\anton\\\\Datathon\\\\02_Cleansed\\\\'"
   ]
  },
  {
   "cell_type": "markdown",
   "id": "288d5215",
   "metadata": {},
   "source": [
    "## 2.1 OF 123456.xlsx"
   ]
  },
  {
   "cell_type": "code",
   "execution_count": 5,
   "id": "19369ebf",
   "metadata": {},
   "outputs": [],
   "source": [
    "# Ruta Excel para OF 123456\n",
    "path_OF_01 = path_raw + 'OF 123456.xlsx'"
   ]
  },
  {
   "cell_type": "code",
   "execution_count": 6,
   "id": "13a95fed",
   "metadata": {},
   "outputs": [
    {
     "name": "stdout",
     "output_type": "stream",
     "text": [
      "Orden                     int64\n",
      "Número material           int64\n",
      "Texto breve material     object\n",
      "Lote                     object\n",
      "Cantidad entregada      float64\n",
      "Unidad de medida         object\n",
      "dtype: object\n"
     ]
    }
   ],
   "source": [
    "# Guardamos el contenido en un DataFrame\n",
    "df_OF_01 = pd.read_excel(path_OF_01)\n",
    "print(df_OF_01.dtypes)"
   ]
  },
  {
   "cell_type": "code",
   "execution_count": 5,
   "id": "8056d706",
   "metadata": {},
   "outputs": [],
   "source": [
    "# La consulta convierte el campo Lote a entero eliminando las barras ('/'), y cambiamos el nombre de las demás columnas.\n",
    "consulta = \"\"\"\n",
    "    SELECT \n",
    "    CAST(REPLACE(`Lote`, '/', '') AS INTEGER) AS Lote, \n",
    "    Orden AS OF,\n",
    "    `Cantidad entregada` AS Cantidad_entregada\n",
    "\n",
    "    FROM df\n",
    "    \"\"\"\n",
    "# Ejecutamos la consulta\n",
    "df_OF_02 = psql.sqldf(consulta, locals())"
   ]
  },
  {
   "cell_type": "code",
   "execution_count": 93,
   "id": "40133486",
   "metadata": {},
   "outputs": [
    {
     "name": "stdout",
     "output_type": "stream",
     "text": [
      "Lote                    int64\n",
      "OF                      int64\n",
      "Cantidad_entregada    float64\n",
      "dtype: object\n",
      "      Lote         OF  Cantidad_entregada\n",
      "0    23019  200178572               13.80\n",
      "1    23020  200179217               13.60\n",
      "2    23021  200181620               13.50\n",
      "3    23022  200182428               13.80\n",
      "4    23023  200182429               13.70\n",
      "..     ...        ...                 ...\n",
      "202  24108  200205686               13.63\n",
      "203  24106  200205695               13.69\n",
      "204  24107  200205696               13.45\n",
      "205  24109  200205687               11.35\n",
      "206  24110  200205688               13.77\n",
      "\n",
      "[207 rows x 3 columns]\n"
     ]
    }
   ],
   "source": [
    "# Guardar el resultado en un archivo Excel\n",
    "df_OF_02.to_excel(f'{path_cleansed}OF_123456.xlsx', index=False)\n",
    "\n",
    "# Mostrar el resultado\n",
    "display(df_OF_02)"
   ]
  },
  {
   "cell_type": "markdown",
   "id": "48c0b9a0",
   "metadata": {},
   "source": [
    "## 2.2 Fases producción.xlsx"
   ]
  },
  {
   "cell_type": "code",
   "execution_count": 6,
   "id": "b5e70ccb",
   "metadata": {},
   "outputs": [],
   "source": [
    "# Ruta Excel para Fases de producción\n",
    "path_fases_01 = path_raw + 'Fases producción.xlsx'"
   ]
  },
  {
   "cell_type": "markdown",
   "id": "1cc4bfa6",
   "metadata": {},
   "source": [
    "### 2.2.1 PREINÓCULO"
   ]
  },
  {
   "cell_type": "code",
   "execution_count": 8,
   "id": "66489ece",
   "metadata": {},
   "outputs": [
    {
     "data": {
      "text/html": [
       "<div>\n",
       "<style scoped>\n",
       "    .dataframe tbody tr th:only-of-type {\n",
       "        vertical-align: middle;\n",
       "    }\n",
       "\n",
       "    .dataframe tbody tr th {\n",
       "        vertical-align: top;\n",
       "    }\n",
       "\n",
       "    .dataframe thead th {\n",
       "        text-align: right;\n",
       "    }\n",
       "</style>\n",
       "<table border=\"1\" class=\"dataframe\">\n",
       "  <thead>\n",
       "    <tr style=\"text-align: right;\">\n",
       "      <th></th>\n",
       "      <th>Unnamed: 0</th>\n",
       "      <th>Unnamed: 1</th>\n",
       "      <th>Unnamed: 2</th>\n",
       "      <th>pH</th>\n",
       "      <th>Unnamed: 4</th>\n",
       "      <th>Unnamed: 5</th>\n",
       "      <th>Turbidez</th>\n",
       "      <th>Unnamed: 7</th>\n",
       "      <th>Unnamed: 8</th>\n",
       "      <th>Línea utilizada</th>\n",
       "      <th>Unnamed: 10</th>\n",
       "      <th>Unnamed: 11</th>\n",
       "    </tr>\n",
       "  </thead>\n",
       "  <tbody>\n",
       "    <tr>\n",
       "      <th>0</th>\n",
       "      <td>LOTE</td>\n",
       "      <td>Fecha/hora inicio</td>\n",
       "      <td>Fecha/hora fin</td>\n",
       "      <td>línea 1</td>\n",
       "      <td>línea 2</td>\n",
       "      <td>línea 3</td>\n",
       "      <td>línea 1</td>\n",
       "      <td>línea 2</td>\n",
       "      <td>línea 3</td>\n",
       "      <td>línea 1</td>\n",
       "      <td>línea 2</td>\n",
       "      <td>línea 3</td>\n",
       "    </tr>\n",
       "    <tr>\n",
       "      <th>1</th>\n",
       "      <td>23023</td>\n",
       "      <td>2023-03-26 05:00:00</td>\n",
       "      <td>2023-03-27 07:21:00</td>\n",
       "      <td>5.496</td>\n",
       "      <td>5.504</td>\n",
       "      <td>5.52</td>\n",
       "      <td>28.32</td>\n",
       "      <td>27.92</td>\n",
       "      <td>32</td>\n",
       "      <td>1</td>\n",
       "      <td>1</td>\n",
       "      <td>0</td>\n",
       "    </tr>\n",
       "    <tr>\n",
       "      <th>2</th>\n",
       "      <td>23024</td>\n",
       "      <td>2023-03-26 05:00:00</td>\n",
       "      <td>2023-03-27 07:21:00</td>\n",
       "      <td>5.496</td>\n",
       "      <td>5.504</td>\n",
       "      <td>5.52</td>\n",
       "      <td>28.32</td>\n",
       "      <td>27.92</td>\n",
       "      <td>32</td>\n",
       "      <td>1</td>\n",
       "      <td>1</td>\n",
       "      <td>0</td>\n",
       "    </tr>\n",
       "    <tr>\n",
       "      <th>3</th>\n",
       "      <td>23025</td>\n",
       "      <td>2023-03-17 06:00:00</td>\n",
       "      <td>2023-03-28 07:42:00</td>\n",
       "      <td>5.48</td>\n",
       "      <td>5.52</td>\n",
       "      <td>5.52</td>\n",
       "      <td>26.56</td>\n",
       "      <td>27.52</td>\n",
       "      <td>26.4</td>\n",
       "      <td>1</td>\n",
       "      <td>1</td>\n",
       "      <td>0</td>\n",
       "    </tr>\n",
       "    <tr>\n",
       "      <th>4</th>\n",
       "      <td>23026</td>\n",
       "      <td>2023-03-17 06:00:00</td>\n",
       "      <td>2023-03-28 07:42:00</td>\n",
       "      <td>5.48</td>\n",
       "      <td>5.52</td>\n",
       "      <td>5.52</td>\n",
       "      <td>26.56</td>\n",
       "      <td>27.52</td>\n",
       "      <td>26.4</td>\n",
       "      <td>1</td>\n",
       "      <td>1</td>\n",
       "      <td>0</td>\n",
       "    </tr>\n",
       "    <tr>\n",
       "      <th>...</th>\n",
       "      <td>...</td>\n",
       "      <td>...</td>\n",
       "      <td>...</td>\n",
       "      <td>...</td>\n",
       "      <td>...</td>\n",
       "      <td>...</td>\n",
       "      <td>...</td>\n",
       "      <td>...</td>\n",
       "      <td>...</td>\n",
       "      <td>...</td>\n",
       "      <td>...</td>\n",
       "      <td>...</td>\n",
       "    </tr>\n",
       "    <tr>\n",
       "      <th>161</th>\n",
       "      <td>24103</td>\n",
       "      <td>2024-06-27 00:30:00</td>\n",
       "      <td>2024-06-28 07:16:00</td>\n",
       "      <td>5.424</td>\n",
       "      <td>5.432</td>\n",
       "      <td>5.416</td>\n",
       "      <td>32.08</td>\n",
       "      <td>32.48</td>\n",
       "      <td>30.64</td>\n",
       "      <td>1</td>\n",
       "      <td>1</td>\n",
       "      <td>0</td>\n",
       "    </tr>\n",
       "    <tr>\n",
       "      <th>162</th>\n",
       "      <td>24104</td>\n",
       "      <td>2024-06-30 00:30:00</td>\n",
       "      <td>2024-07-01 07:01:00</td>\n",
       "      <td>5.408</td>\n",
       "      <td>5.424</td>\n",
       "      <td>5.392</td>\n",
       "      <td>27.44</td>\n",
       "      <td>26.48</td>\n",
       "      <td>26.64</td>\n",
       "      <td>1</td>\n",
       "      <td>0</td>\n",
       "      <td>1</td>\n",
       "    </tr>\n",
       "    <tr>\n",
       "      <th>163</th>\n",
       "      <td>24105</td>\n",
       "      <td>2024-06-30 00:30:00</td>\n",
       "      <td>2024-07-01 07:01:00</td>\n",
       "      <td>5.408</td>\n",
       "      <td>5.424</td>\n",
       "      <td>5.392</td>\n",
       "      <td>27.44</td>\n",
       "      <td>26.48</td>\n",
       "      <td>26.64</td>\n",
       "      <td>1</td>\n",
       "      <td>0</td>\n",
       "      <td>1</td>\n",
       "    </tr>\n",
       "    <tr>\n",
       "      <th>164</th>\n",
       "      <td>24108</td>\n",
       "      <td>2024-07-04 00:30:00</td>\n",
       "      <td>2024-07-05 07:04:00</td>\n",
       "      <td>5.528</td>\n",
       "      <td>5.432</td>\n",
       "      <td>5.504</td>\n",
       "      <td>33.44</td>\n",
       "      <td>28.8</td>\n",
       "      <td>25.6</td>\n",
       "      <td>0</td>\n",
       "      <td>1</td>\n",
       "      <td>1</td>\n",
       "    </tr>\n",
       "    <tr>\n",
       "      <th>165</th>\n",
       "      <td>24111</td>\n",
       "      <td>2024-07-04 00:30:00</td>\n",
       "      <td>2024-07-05 07:04:00</td>\n",
       "      <td>5.528</td>\n",
       "      <td>5.432</td>\n",
       "      <td>5.504</td>\n",
       "      <td>33.44</td>\n",
       "      <td>28.8</td>\n",
       "      <td>25.6</td>\n",
       "      <td>0</td>\n",
       "      <td>1</td>\n",
       "      <td>1</td>\n",
       "    </tr>\n",
       "  </tbody>\n",
       "</table>\n",
       "<p>166 rows × 12 columns</p>\n",
       "</div>"
      ],
      "text/plain": [
       "    Unnamed: 0           Unnamed: 1           Unnamed: 2       pH Unnamed: 4  \\\n",
       "0         LOTE    Fecha/hora inicio       Fecha/hora fin  línea 1    línea 2   \n",
       "1        23023  2023-03-26 05:00:00  2023-03-27 07:21:00    5.496      5.504   \n",
       "2        23024  2023-03-26 05:00:00  2023-03-27 07:21:00    5.496      5.504   \n",
       "3        23025  2023-03-17 06:00:00  2023-03-28 07:42:00     5.48       5.52   \n",
       "4        23026  2023-03-17 06:00:00  2023-03-28 07:42:00     5.48       5.52   \n",
       "..         ...                  ...                  ...      ...        ...   \n",
       "161      24103  2024-06-27 00:30:00  2024-06-28 07:16:00    5.424      5.432   \n",
       "162      24104  2024-06-30 00:30:00  2024-07-01 07:01:00    5.408      5.424   \n",
       "163      24105  2024-06-30 00:30:00  2024-07-01 07:01:00    5.408      5.424   \n",
       "164      24108  2024-07-04 00:30:00  2024-07-05 07:04:00    5.528      5.432   \n",
       "165      24111  2024-07-04 00:30:00  2024-07-05 07:04:00    5.528      5.432   \n",
       "\n",
       "    Unnamed: 5 Turbidez Unnamed: 7 Unnamed: 8 Línea utilizada Unnamed: 10  \\\n",
       "0      línea 3  línea 1    línea 2    línea 3         línea 1     línea 2   \n",
       "1         5.52    28.32      27.92         32               1           1   \n",
       "2         5.52    28.32      27.92         32               1           1   \n",
       "3         5.52    26.56      27.52       26.4               1           1   \n",
       "4         5.52    26.56      27.52       26.4               1           1   \n",
       "..         ...      ...        ...        ...             ...         ...   \n",
       "161      5.416    32.08      32.48      30.64               1           1   \n",
       "162      5.392    27.44      26.48      26.64               1           0   \n",
       "163      5.392    27.44      26.48      26.64               1           0   \n",
       "164      5.504    33.44       28.8       25.6               0           1   \n",
       "165      5.504    33.44       28.8       25.6               0           1   \n",
       "\n",
       "    Unnamed: 11  \n",
       "0       línea 3  \n",
       "1             0  \n",
       "2             0  \n",
       "3             0  \n",
       "4             0  \n",
       "..          ...  \n",
       "161           0  \n",
       "162           1  \n",
       "163           1  \n",
       "164           1  \n",
       "165           1  \n",
       "\n",
       "[166 rows x 12 columns]"
      ]
     },
     "metadata": {},
     "output_type": "display_data"
    }
   ],
   "source": [
    "# Leer el archivo Excel y guardar el contenido en un DataFrame\n",
    "df_preinoculo_01 = pd.read_excel(path_fases_01, sheet_name = \"Preinóculo\")\n",
    "display(df_preinoculo_01)"
   ]
  },
  {
   "cell_type": "code",
   "execution_count": null,
   "id": "21f3be28",
   "metadata": {},
   "outputs": [],
   "source": [
    "# Convertimos la columnas 'ph_línea 3' y 'turbidez_línea 3' a numérico y forzamos los valores no numéricos a NaN\n",
    "df_preinoculo_01['ph_línea 3'] = pd.to_numeric(df_preinoculo_01['ph_línea 3'], errors='coerce')\n",
    "df_preinoculo_01['turbidez_línea 3'] = pd.to_numeric(df_preinoculo_01['turbidez_línea 3'], errors='coerce')"
   ]
  },
  {
   "cell_type": "code",
   "execution_count": null,
   "id": "e54f2f4e",
   "metadata": {},
   "outputs": [],
   "source": []
  },
  {
   "cell_type": "markdown",
   "id": "d4c19c98",
   "metadata": {},
   "source": [
    "### 2.3 CULTIVO FINAL"
   ]
  },
  {
   "cell_type": "code",
   "execution_count": null,
   "id": "a92e561d",
   "metadata": {},
   "outputs": [],
   "source": [
    "# Leemos el archivo Excel y guardamos el contenido en un DataFrame\n",
    "df_cultivo_01 = pd.read_excel(path_fases_01, sheet_name = \"Cultivo final\")"
   ]
  },
  {
   "cell_type": "code",
   "execution_count": null,
   "id": "64e7d4fb",
   "metadata": {},
   "outputs": [],
   "source": [
    "# Guardamos el resultado en un archivo Excel\n",
    "resultado.to_excel(f'{path_cleansed}Cultivo_final.xlsx', index=False)"
   ]
  },
  {
   "cell_type": "code",
   "execution_count": null,
   "id": "eee5716e",
   "metadata": {},
   "outputs": [],
   "source": []
  },
  {
   "cell_type": "markdown",
   "id": "353c1982",
   "metadata": {},
   "source": [
    "## Cinéticos IPC"
   ]
  },
  {
   "cell_type": "code",
   "execution_count": null,
   "id": "becb96af",
   "metadata": {},
   "outputs": [],
   "source": [
    "# Ruta Excel para Cinéticos IPC\n",
    "path_IPC_01 = path_raw + 'Cinéticos IPC.xlsx'"
   ]
  },
  {
   "cell_type": "markdown",
   "id": "cafad70d",
   "metadata": {},
   "source": [
    "### Cultivos finales"
   ]
  },
  {
   "cell_type": "code",
   "execution_count": null,
   "id": "0bc7fc0a",
   "metadata": {},
   "outputs": [],
   "source": [
    "# Leemos el archivo Excel y guardamos el contenido en un DataFrame\n",
    "df_cultivoIPC_01 = pd.read_excel(path_IPC_01, sheet_name='Cultivos finales')"
   ]
  },
  {
   "cell_type": "code",
   "execution_count": null,
   "id": "9ca4fb98",
   "metadata": {},
   "outputs": [
    {
     "name": "stdout",
     "output_type": "stream",
     "text": [
      "Lote                   object\n",
      "Fecha          datetime64[ns]\n",
      "Turbidez               object\n",
      "Viabilidad            float64\n",
      "Glucosa g/L            object\n",
      "dtype: object\n"
     ]
    }
   ],
   "source": [
    "# La consulta convierte los campos Lote, Turbidez y Glucosa g/L a valores numéricos, manejando excepciones como NULL.\n",
    "consulta = \"\"\"\n",
    "    SELECT \n",
    "        CAST(Lote AS Integer) AS Lote,\n",
    "        Fecha,\n",
    "        CAST(NULLIF(Turbidez, '-') AS Float) AS Turbidez,\n",
    "        Viabilidad,\n",
    "        CASE\n",
    "            WHEN `Glucosa g/L` REGEXP '^[0-9]+\\\\.[0-9]+$' THEN CAST(`Glucosa g/L` AS Float)\n",
    "            ELSE NULL\n",
    "        END AS Glucosa\n",
    "    FROM df_cultivoIPC_01\n",
    "\"\"\"\n",
    "resultado = psql.sqldf(consulta, locals())\n",
    "\n",
    "# Cambiamos, con la librería pandas, el tipo de campo 'Fecha' a DATETIME porque la librería pandasql no tiene la función\n",
    "resultado['Fecha'] = pd.to_datetime(resultado['Fecha'])"
   ]
  },
  {
   "cell_type": "code",
   "execution_count": null,
   "id": "c4552abf",
   "metadata": {},
   "outputs": [
    {
     "name": "stdout",
     "output_type": "stream",
     "text": [
      "Lote                   int64\n",
      "Fecha         datetime64[ns]\n",
      "Turbidez             float64\n",
      "Viabilidad           float64\n",
      "Glucosa              float64\n",
      "dtype: object\n",
      "       Lote               Fecha  Turbidez    Viabilidad  Glucosa\n",
      "0     23019 2023-03-21 07:30:00     17.28  8.333333e+06    1.744\n",
      "1     23019 2023-03-21 11:00:00     17.28  1.397333e+07    1.968\n",
      "2     23019 2023-03-21 14:00:00     18.40  1.688000e+07    1.920\n",
      "3     23019 2023-03-21 18:00:00     19.76  2.474667e+07    1.880\n",
      "4     23019 2023-03-22 07:00:00     39.12  1.000000e+08    1.568\n",
      "...     ...                 ...       ...           ...      ...\n",
      "1906  24110 2024-07-04 15:30:00     58.40  8.053333e+07    1.584\n",
      "1907  24110 2024-07-04 19:30:00     69.76  1.021333e+08    1.248\n",
      "1908  24110 2024-07-05 06:30:00    100.80  1.525333e+08    0.600\n",
      "1909  24110 2024-07-05 08:00:00    104.80  1.514667e+08    0.520\n",
      "1910  24110 2024-07-05 10:10:00    104.80  1.573333e+08    0.592\n",
      "\n",
      "[1911 rows x 5 columns]\n"
     ]
    }
   ],
   "source": [
    "# Guardamos el resultado en un archivo Excel\n",
    "resultado.to_excel(f'{path_cleansed}CineticosIPC_Cultivos.xlsx', index=False)\n",
    "\n",
    "# Mostrar el resultado\n",
    "display(resultado)"
   ]
  }
 ],
 "metadata": {
  "kernelspec": {
   "display_name": "Python 3",
   "language": "python",
   "name": "python3"
  },
  "language_info": {
   "codemirror_mode": {
    "name": "ipython",
    "version": 3
   },
   "file_extension": ".py",
   "mimetype": "text/x-python",
   "name": "python",
   "nbconvert_exporter": "python",
   "pygments_lexer": "ipython3",
   "version": "3.9.1"
  }
 },
 "nbformat": 4,
 "nbformat_minor": 5
}
