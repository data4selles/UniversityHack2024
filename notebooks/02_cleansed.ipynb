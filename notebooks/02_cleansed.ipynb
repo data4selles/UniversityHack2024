{
 "cells": [
  {
   "cell_type": "markdown",
   "id": "34154528",
   "metadata": {},
   "source": [
    "# 2. CLEANSED LAYER"
   ]
  },
  {
   "cell_type": "code",
   "execution_count": 1,
   "id": "31066867",
   "metadata": {},
   "outputs": [
    {
     "name": "stderr",
     "output_type": "stream",
     "text": [
      "\"pip\" no se reconoce como un comando interno o externo,\n",
      "programa o archivo por lotes ejecutable.\n"
     ]
    }
   ],
   "source": [
    "!pip install pandasql"
   ]
  },
  {
   "cell_type": "code",
   "execution_count": 2,
   "id": "add0ceb1",
   "metadata": {},
   "outputs": [
    {
     "ename": "ModuleNotFoundError",
     "evalue": "No module named 'pandas'",
     "output_type": "error",
     "traceback": [
      "\u001b[1;31m---------------------------------------------------------------------------\u001b[0m",
      "\u001b[1;31mModuleNotFoundError\u001b[0m                       Traceback (most recent call last)",
      "Cell \u001b[1;32mIn[2], line 1\u001b[0m\n\u001b[1;32m----> 1\u001b[0m \u001b[38;5;28;01mimport\u001b[39;00m \u001b[38;5;21;01mpandas\u001b[39;00m \u001b[38;5;28;01mas\u001b[39;00m \u001b[38;5;21;01mpd\u001b[39;00m\n\u001b[0;32m      2\u001b[0m \u001b[38;5;28;01mimport\u001b[39;00m \u001b[38;5;21;01mpandasql\u001b[39;00m \u001b[38;5;28;01mas\u001b[39;00m \u001b[38;5;21;01mpsql\u001b[39;00m\n",
      "\u001b[1;31mModuleNotFoundError\u001b[0m: No module named 'pandas'"
     ]
    }
   ],
   "source": [
    "import pandas as pd\n",
    "import pandasql as psql"
   ]
  },
  {
   "cell_type": "markdown",
   "id": "74205b1a",
   "metadata": {},
   "source": [
    "## OF 123456.xlsx"
   ]
  },
  {
   "cell_type": "code",
   "execution_count": 92,
   "id": "8056d706",
   "metadata": {},
   "outputs": [],
   "source": [
    "path_raw = 'C:\\\\Users\\\\anton\\\\Datathon\\\\01_Raw\\\\'\n",
    "path_cleansed = 'C:\\\\Users\\\\anton\\\\Datathon\\\\02_Cleansed\\\\'\n",
    "\n",
    "# Leer el archivo Excel y guardar el contenido en un DataFrame\n",
    "df = pd.read_excel(f'{path_raw}OF 123456.xlsx')\n",
    "\n",
    "# Escribir una consulta SQL sobre el DataFrame\n",
    "consulta = \"\"\"\n",
    "\n",
    "    SELECT \n",
    "    CAST(REPLACE(`Lote`, '/', '') AS INTEGER) AS Lote, \n",
    "    Orden AS OF,\n",
    "    `Cantidad entregada` AS Cantidad_entregada\n",
    "\n",
    "    FROM df\n",
    "    \"\"\""
   ]
  },
  {
   "cell_type": "code",
   "execution_count": 93,
   "id": "40133486",
   "metadata": {},
   "outputs": [
    {
     "name": "stdout",
     "output_type": "stream",
     "text": [
      "Lote                    int64\n",
      "OF                      int64\n",
      "Cantidad_entregada    float64\n",
      "dtype: object\n",
      "      Lote         OF  Cantidad_entregada\n",
      "0    23019  200178572               13.80\n",
      "1    23020  200179217               13.60\n",
      "2    23021  200181620               13.50\n",
      "3    23022  200182428               13.80\n",
      "4    23023  200182429               13.70\n",
      "..     ...        ...                 ...\n",
      "202  24108  200205686               13.63\n",
      "203  24106  200205695               13.69\n",
      "204  24107  200205696               13.45\n",
      "205  24109  200205687               11.35\n",
      "206  24110  200205688               13.77\n",
      "\n",
      "[207 rows x 3 columns]\n"
     ]
    }
   ],
   "source": [
    "# Ejecutar la consulta\n",
    "resultado = psql.sqldf(consulta, locals())\n",
    "print(resultado.dtypes)\n",
    "# Guardar el resultado en un archivo Excel\n",
    "resultado.to_excel(f'{path_cleansed}OF_123456.xlsx', index=False)\n",
    "\n",
    "# Mostrar el resultado\n",
    "print(resultado)\n"
   ]
  },
  {
   "cell_type": "markdown",
   "id": "fed74986",
   "metadata": {},
   "source": [
    "## Cinéticos IPC"
   ]
  },
  {
   "cell_type": "markdown",
   "id": "3fa29ef4",
   "metadata": {},
   "source": [
    "### Cultivos finales"
   ]
  },
  {
   "cell_type": "code",
   "execution_count": 80,
   "id": "f682c585",
   "metadata": {},
   "outputs": [
    {
     "name": "stdout",
     "output_type": "stream",
     "text": [
      "Lote                   object\n",
      "Fecha          datetime64[ns]\n",
      "Turbidez               object\n",
      "Viabilidad            float64\n",
      "Glucosa g/L            object\n",
      "dtype: object\n"
     ]
    }
   ],
   "source": [
    "import pandas as pd\n",
    "import pandasql as ps\n",
    "\n",
    "# Definir las rutas de las carpetas\n",
    "path_raw = 'C:\\\\Users\\\\anton\\\\Datathon\\\\01_Raw\\\\'\n",
    "path_cleansed = 'C:\\\\Users\\\\anton\\\\Datathon\\\\02_Cleansed\\\\'\n",
    "\n",
    "# Leer el archivo Excel y guardar el contenido en un DataFrame\n",
    "df = pd.read_excel(f'{path_raw}Cinéticos IPC.xlsx', sheet_name='Cultivos finales')\n",
    "\n",
    "# Mostrar los tipos de datos del DataFrame\n",
    "print(df.dtypes)\n",
    "\n",
    "# Escribir una consulta SQL sobre el DataFrame\n",
    "consulta = \"\"\"\n",
    "    SELECT \n",
    "        CAST(Lote AS Integer) AS Lote,\n",
    "        Fecha,\n",
    "        CAST(NULLIF(Turbidez, '-') AS Float) AS Turbidez,\n",
    "        Viabilidad,\n",
    "        CASE\n",
    "            WHEN `Glucosa g/L` REGEXP '^[0-9]+\\\\.[0-9]+$' THEN CAST(`Glucosa g/L` AS Float)\n",
    "            ELSE NULL\n",
    "        END AS Glucosa\n",
    "    FROM df\n",
    "\"\"\"\n",
    "resultado = psql.sqldf(consulta, locals())\n",
    "resultado['Fecha'] = pd.to_datetime(resultado['Fecha'])"
   ]
  },
  {
   "cell_type": "code",
   "execution_count": 82,
   "id": "45007335",
   "metadata": {},
   "outputs": [
    {
     "name": "stdout",
     "output_type": "stream",
     "text": [
      "Lote                   int64\n",
      "Fecha         datetime64[ns]\n",
      "Turbidez             float64\n",
      "Viabilidad           float64\n",
      "Glucosa              float64\n",
      "dtype: object\n",
      "       Lote               Fecha  Turbidez    Viabilidad  Glucosa\n",
      "0     23019 2023-03-21 07:30:00     17.28  8.333333e+06    1.744\n",
      "1     23019 2023-03-21 11:00:00     17.28  1.397333e+07    1.968\n",
      "2     23019 2023-03-21 14:00:00     18.40  1.688000e+07    1.920\n",
      "3     23019 2023-03-21 18:00:00     19.76  2.474667e+07    1.880\n",
      "4     23019 2023-03-22 07:00:00     39.12  1.000000e+08    1.568\n",
      "...     ...                 ...       ...           ...      ...\n",
      "1906  24110 2024-07-04 15:30:00     58.40  8.053333e+07    1.584\n",
      "1907  24110 2024-07-04 19:30:00     69.76  1.021333e+08    1.248\n",
      "1908  24110 2024-07-05 06:30:00    100.80  1.525333e+08    0.600\n",
      "1909  24110 2024-07-05 08:00:00    104.80  1.514667e+08    0.520\n",
      "1910  24110 2024-07-05 10:10:00    104.80  1.573333e+08    0.592\n",
      "\n",
      "[1911 rows x 5 columns]\n"
     ]
    }
   ],
   "source": [
    "# Guardar el resultado en un archivo Excel\n",
    "resultado.to_excel(f'{path_cleansed}CineticosIPC_Cultivos.xlsx', index=False)\n",
    "\n",
    "# Mostrar el resultado\n",
    "print(resultado)"
   ]
  },
  {
   "cell_type": "code",
   "execution_count": null,
   "id": "0380f6d2",
   "metadata": {},
   "outputs": [],
   "source": []
  },
  {
   "cell_type": "code",
   "execution_count": null,
   "id": "a92e561d",
   "metadata": {},
   "outputs": [],
   "source": []
  },
  {
   "cell_type": "code",
   "execution_count": null,
   "id": "eee5716e",
   "metadata": {},
   "outputs": [],
   "source": []
  },
  {
   "cell_type": "code",
   "execution_count": null,
   "id": "29927252",
   "metadata": {},
   "outputs": [],
   "source": []
  }
 ],
 "metadata": {
  "kernelspec": {
   "display_name": "Python 3",
   "language": "python",
   "name": "python3"
  },
  "language_info": {
   "codemirror_mode": {
    "name": "ipython",
    "version": 3
   },
   "file_extension": ".py",
   "mimetype": "text/x-python",
   "name": "python",
   "nbconvert_exporter": "python",
   "pygments_lexer": "ipython3",
   "version": "3.9.1"
  }
 },
 "nbformat": 4,
 "nbformat_minor": 5
}
